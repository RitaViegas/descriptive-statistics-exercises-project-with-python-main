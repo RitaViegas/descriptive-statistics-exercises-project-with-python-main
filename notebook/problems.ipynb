{
    "cells": [
        {
            "cell_type": "markdown",
            "id": "ac622319",
            "metadata": {},
            "source": [
                "# Descriptive statistics problems"
            ]
        },
        {
            "cell_type": "markdown",
            "id": "5e0ab0d5",
            "metadata": {},
            "source": [
                "### Exercise 1\n",
                "\n",
                "We will use NumPy to obtain information to describe statistically.\n",
                "\n",
                "- Generate an array of 100 elements following a normal distribution.\n",
                "- Generate an array of 100 elements following a chi-square distribution with 3 degrees of freedom.\n",
                "- Calculate the main metrics and statistical measures that best describe the two vectors."
            ]
        },
        {
            "cell_type": "code",
            "execution_count": 19,
            "id": "34720ab6",
            "metadata": {},
            "outputs": [
                {
                    "name": "stdout",
                    "output_type": "stream",
                    "text": [
                        "       Normal Distribution  Chi-square Distribution\n",
                        "count           100.000000               100.000000\n",
                        "mean             -0.103847                 2.938080\n",
                        "std               0.908168                 2.423997\n",
                        "min              -2.619745                 0.132473\n",
                        "25%              -0.600906                 1.091695\n",
                        "50%              -0.126956                 2.463615\n",
                        "75%               0.405952                 3.982606\n",
                        "max               1.852278                12.724563\n"
                    ]
                }
            ],
            "source": [
                "import numpy as np\n",
                "import pandas as pd\n",
                "import statistics as stats\n",
                "\n",
                "np.random.seed(42)\n",
                "\n",
                "# Generate 100 elements from a normal distribution (mean=0, std=1)\n",
                "normal_array = np.random.normal(size=100)\n",
                "\n",
                "# Generate 100 elements from a chi-square distribution (3 degrees of freedom)\n",
                "chi_square_array = np.random.chisquare(df=3,size=100)\n",
                "\n",
                "# Calculate metrics for both distributions\n",
                "df = pd.DataFrame({\n",
                "    'Normal Distribution': normal_array,\n",
                "    'Chi-square Distribution': chi_square_array\n",
                "})\n",
                "\n",
                "descritive_statistics = df.describe()\n",
                "\n",
                "print(descritive_statistics)\n"
            ]
        },
        {
            "cell_type": "markdown",
            "id": "2c2624a6",
            "metadata": {},
            "source": [
                "# Measures of central tendency"
            ]
        },
        {
            "cell_type": "code",
            "execution_count": 27,
            "id": "710714a0",
            "metadata": {},
            "outputs": [
                {
                    "name": "stdout",
                    "output_type": "stream",
                    "text": [
                        "        Normal Distribution  Chi-square Distribution\n",
                        "Mean               0.233492                 2.617745\n",
                        "Median             0.275586                 2.111184\n",
                        "Mode              -0.925621                 1.939486\n"
                    ]
                }
            ],
            "source": [
                "import statistics as stats\n",
                "\n",
                "# Generate 100 elements from a normal distribution (mean=0, std=1)\n",
                "normal_array = np.random.normal(size=100)\n",
                "\n",
                "# Generate 100 elements from a chi-square distribution (3 degrees of freedom)\n",
                "chi_square_array = np.random.chisquare(df=3,size=100)\n",
                "\n",
                "def calculate_measures(array):\n",
                "    measures_central_tendency = {\n",
                "        'Mean': stats.mean(array),\n",
                "        'Median': stats.median(array),\n",
                "        'Mode ': stats.mode(array)\n",
                "    }\n",
                "    return measures_central_tendency\n",
                "\n",
                "\"\"\" to calculate the measures of central tendency for both distributions: \n",
                "normal and chi-square \"\"\"\n",
                "\n",
                "measures_normal = calculate_measures(normal_array)\n",
                "measures_chi_square = calculate_measures(chi_square_array)\n",
                "\n",
                "\"\"\" to create a DataFrame to compare \"\"\"\n",
                "\n",
                "df = pd.DataFrame({\n",
                "    \"Normal Distribution\" : measures_normal,\n",
                "    \"Chi-square Distribution\" : measures_chi_square\n",
                "})\n",
                "\n",
                "\"\"\" to show \"\"\"\n",
                "print(df)\n"
            ]
        },
        {
            "cell_type": "markdown",
            "id": "664f711a",
            "metadata": {},
            "source": [
                "# Measures of dispersion"
            ]
        },
        {
            "cell_type": "code",
            "execution_count": 28,
            "id": "2902b26a",
            "metadata": {},
            "outputs": [
                {
                    "name": "stdout",
                    "output_type": "stream",
                    "text": [
                        "                     Normal Distribution  Chi-square Distribution\n",
                        "Range                           5.133621                 9.553321\n",
                        "Variance                        1.078156                 4.553064\n",
                        "Standard deviation              1.038343                 2.133791\n"
                    ]
                }
            ],
            "source": [
                "import statistics as stats\n",
                "\n",
                "# Generate 100 elements from a normal distribution (mean=0, std=1)\n",
                "normal_array = np.random.normal(size=100)\n",
                "\n",
                "# Generate 100 elements from a chi-square distribution (3 degrees of freedom)\n",
                "chi_square_array = np.random.chisquare(df=3,size=100)\n",
                "\n",
                "def calculate_measures(array):\n",
                "    measures_dispersion = {\n",
                "        'Range': max(array) - min(array),\n",
                "        'Variance': stats.variance(array),\n",
                "        'Standard deviation ': stats.stdev(array)\n",
                "    }\n",
                "    return measures_dispersion\n",
                "\n",
                "\"\"\" to calculate the measures of central tendency for both distributions: \n",
                "normal and chi-square \"\"\"\n",
                "\n",
                "measures_normal = calculate_measures(normal_array)\n",
                "measures_chi_square = calculate_measures(chi_square_array)\n",
                "\n",
                "\"\"\" to create a DataFrame to compare \"\"\"\n",
                "\n",
                "df = pd.DataFrame({\n",
                "    \"Normal Distribution\" : measures_normal,\n",
                "    \"Chi-square Distribution\" : measures_chi_square\n",
                "})\n",
                "\n",
                "\"\"\" to show \"\"\"\n",
                "print(df)"
            ]
        },
        {
            "cell_type": "markdown",
            "id": "01fffba6",
            "metadata": {},
            "source": [
                "# Shape measures"
            ]
        },
        {
            "cell_type": "code",
            "execution_count": 29,
            "id": "c390542e",
            "metadata": {},
            "outputs": [
                {
                    "name": "stdout",
                    "output_type": "stream",
                    "text": [
                        "          Normal Distribution  Chi-square Distribution\n",
                        "Skew                -0.246385                 1.373333\n",
                        "Kurtosis             0.710921                 1.747343\n"
                    ]
                }
            ],
            "source": [
                "from scipy.stats import skew \n",
                "from scipy.stats import kurtosis\n",
                "# Generate 100 elements from a normal distribution (mean=0, std=1)\n",
                "normal_array = np.random.normal(size=100)\n",
                "\n",
                "# Generate 100 elements from a chi-square distribution (3 degrees of freedom)\n",
                "chi_square_array = np.random.chisquare(df=3,size=100)\n",
                "\n",
                "def calculate_measures(array):\n",
                "    shape_measures = {\n",
                "        'Skew': skew(array),\n",
                "        'Kurtosis': kurtosis(array)\n",
                "    }\n",
                "    return shape_measures\n",
                "\n",
                "\"\"\" to calculate the measures of central tendency for both distributions: \n",
                "normal and chi-square \"\"\"\n",
                "\n",
                "measures_normal = calculate_measures(normal_array)\n",
                "measures_chi_square = calculate_measures(chi_square_array)\n",
                "\n",
                "\"\"\" to create a DataFrame to compare \"\"\"\n",
                "\n",
                "df = pd.DataFrame({\n",
                "    \"Normal Distribution\" : measures_normal,\n",
                "    \"Chi-square Distribution\" : measures_chi_square\n",
                "})\n",
                "\n",
                "\"\"\" to show \"\"\"\n",
                "print(df)"
            ]
        },
        {
            "cell_type": "markdown",
            "id": "46c70c3d",
            "metadata": {},
            "source": [
                "### Exercise 2\n",
                "\n",
                "Write a Python program to calculate the standard deviation of the following data:\n",
                "\n",
                "```py\n",
                "data = [4, 2, 5, 8, 6]\n",
                "```"
            ]
        },
        {
            "cell_type": "code",
            "execution_count": 31,
            "id": "d590308e",
            "metadata": {},
            "outputs": [
                {
                    "name": "stdout",
                    "output_type": "stream",
                    "text": [
                        "Sample Data: [4, 2, 5, 8, 6]\n",
                        "Mean: 5.0\n",
                        "Standard Deviation: 2.23606797749979\n"
                    ]
                }
            ],
            "source": [
                "import math\n",
                "\n",
                "data = [4, 2, 5, 8,6]\n",
                "\n",
                "# function to calculate the average\n",
                "def calculate_mean(data):\n",
                "    n = len(data)\n",
                "    if n <= 1:\n",
                "        return data[0]\n",
                "    mean = sum(data) / n  # Add the elements and divide by the size of the list\n",
                "    return mean\n",
                "\n",
                "# Function to calculate the sample standard deviation\n",
                "def calculate_standard_deviation(data):\n",
                "    n = len(data)\n",
                "    if n <= 1:\n",
                "        return 0.0\n",
                "\n",
                "    mean = calculate_mean(data)\n",
                "    variance = sum((d - mean) ** 2 for d in data) / (n - 1)  # Calculation of variance\n",
                "    standard_deviation = math.sqrt(variance)  # Square root of variance = standard deviation\n",
                "\n",
                "    return standard_deviation\n",
                "\n",
                "\n",
                "# Results\n",
                "print(f\"Sample Data: {data}\")\n",
                "print(f\"Mean: {calculate_mean(data)}\")\n",
                "print(f\"Standard Deviation: {calculate_standard_deviation(data)}\")\n"
            ]
        }
    ],
    "metadata": {
        "interpreter": {
            "hash": "9248718ffe6ce6938b217e69dbcc175ea21f4c6b28a317e96c05334edae734bb"
        },
        "kernelspec": {
            "display_name": "Python 3.9.12 ('ML-BOOTCAMP')",
            "language": "python",
            "name": "python3"
        },
        "language_info": {
            "codemirror_mode": {
                "name": "ipython",
                "version": 3
            },
            "file_extension": ".py",
            "mimetype": "text/x-python",
            "name": "python",
            "nbconvert_exporter": "python",
            "pygments_lexer": "ipython3",
            "version": "3.11.9"
        }
    },
    "nbformat": 4,
    "nbformat_minor": 5
}
