{
    "cells": [
        {
            "cell_type": "markdown",
            "id": "ac622319",
            "metadata": {},
            "source": [
                "# Descriptive statistics problems"
            ]
        },
        {
            "cell_type": "markdown",
            "id": "5e0ab0d5",
            "metadata": {},
            "source": [
                "### Exercise 1\n",
                "\n",
                "We will use NumPy to obtain information to describe statistically.\n",
                "\n",
                "- Generate an array of 100 elements following a normal distribution.\n",
                "- Generate an array of 100 elements following a chi-square distribution with 3 degrees of freedom.\n",
                "- Calculate the main metrics and statistical measures that best describe the two vectors."
            ]
        },
        {
            "cell_type": "code",
            "execution_count": 32,
            "id": "34720ab6",
            "metadata": {},
            "outputs": [
                {
                    "name": "stdout",
                    "output_type": "stream",
                    "text": [
                        "       Normal Distribution  Chi-square Distribution\n",
                        "count           100.000000               100.000000\n",
                        "mean              0.005140                 3.151923\n",
                        "std               0.937552                 2.544502\n",
                        "min              -2.040579                 0.151979\n",
                        "25%              -0.609235                 1.217606\n",
                        "50%              -0.099097                 2.748530\n",
                        "75%               0.681470                 4.367617\n",
                        "max               2.398355                14.189190\n"
                    ]
                }
            ],
            "source": [
                "import numpy as np\n",
                "import pandas as pd\n",
                "import statistics as stats\n",
                "\n",
                "# Generate 100 elements from a normal distribution (mean=0, std=1)\n",
                "normal_array = np.random.normal(loc=0, scale=1, size=100)\n",
                "\n",
                "# Generate 100 elements from a chi-square distribution (3 degrees of freedom)\n",
                "chi_square_array = np.random.chisquare(df=3,size=100)\n",
                "\n",
                "# Calculate metrics for both distributions\n",
                "df = pd.DataFrame({\n",
                "    'Normal Distribution': normal_array,\n",
                "    'Chi-square Distribution': chi_square_array\n",
                "})\n",
                "\n",
                "descritive_statistics = df.describe()\n",
                "\n",
                "print(descritive_statistics)"
            ]
        },
        {
            "cell_type": "markdown",
            "id": "46c70c3d",
            "metadata": {},
            "source": [
                "### Exercise 2\n",
                "\n",
                "Write a Python program to calculate the standard deviation of the following data:\n",
                "\n",
                "```py\n",
                "data = [4, 2, 5, 8, 6]\n",
                "```"
            ]
        },
        {
            "cell_type": "code",
            "execution_count": 33,
            "id": "d590308e",
            "metadata": {},
            "outputs": [
                {
                    "name": "stdout",
                    "output_type": "stream",
                    "text": [
                        "Variance: 5\n",
                        "Standard deviation: 2.23606797749979\n"
                    ]
                }
            ],
            "source": [
                "data_1 = [4, 2, 5, 8,6]\n",
                "\n",
                "variance_data_1 = stats.variance(data_1)\n",
                "std_data_1 = stats.stdev(data_1) \n",
                "print(f\"Variance:\", variance_data_1)\n",
                "print(f\"Standard deviation:\", std_data_1)"
            ]
        }
    ],
    "metadata": {
        "interpreter": {
            "hash": "9248718ffe6ce6938b217e69dbcc175ea21f4c6b28a317e96c05334edae734bb"
        },
        "kernelspec": {
            "display_name": "Python 3.9.12 ('ML-BOOTCAMP')",
            "language": "python",
            "name": "python3"
        },
        "language_info": {
            "codemirror_mode": {
                "name": "ipython",
                "version": 3
            },
            "file_extension": ".py",
            "mimetype": "text/x-python",
            "name": "python",
            "nbconvert_exporter": "python",
            "pygments_lexer": "ipython3",
            "version": "3.11.9"
        }
    },
    "nbformat": 4,
    "nbformat_minor": 5
}
